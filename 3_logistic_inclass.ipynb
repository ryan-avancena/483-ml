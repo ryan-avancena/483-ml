{
 "cells": [
  {
   "cell_type": "markdown",
   "metadata": {},
   "source": [
    "# Logistic Regression In-Class Exercises\n",
    "\n",
    "Do these exercises along with the videos."
   ]
  },
  {
   "cell_type": "code",
   "execution_count": 23,
   "metadata": {},
   "outputs": [],
   "source": [
    "import numpy as np\n",
    "import matplotlib.pyplot as plt\n",
    "import pandas as pd"
   ]
  },
  {
   "cell_type": "markdown",
   "metadata": {},
   "source": [
    "## Question 1.  Linear Classifier\n",
    "\n",
    "Given the data below, use the `plt.scatter()` function to plot the data points with different colors for the classes."
   ]
  },
  {
   "cell_type": "code",
   "execution_count": 24,
   "metadata": {},
   "outputs": [
    {
     "data": {
      "image/png": "[encoded data removed]",
      "text/plain": [
       "<Figure size 640x480 with 1 Axes>"
      ]
     },
     "metadata": {},
     "output_type": "display_data"
    }
   ],
   "source": [
    "X = np.array([[1,1], [1,3], [2,2], [2,3], [3,2], [4,1]])\n",
    "y = np.array([0,0,1,1,0,1], dtype=np.int_)\n",
    "\n",
    "# TODO\n",
    "plt.scatter(X[:,0],X[:,1],c=y,cmap='bwr',edgecolors='k')\n",
    "plt.xlabel('X1')\n",
    "plt.ylabel('X2')\n",
    "plt.title('Scatter Plot Colored by Class Label')\n",
    "plt.show()"
   ]
  },
  {
   "cell_type": "code",
   "execution_count": null,
   "metadata": {},
   "outputs": [],
   "source": []
  },
  {
   "cell_type": "markdown",
   "metadata": {},
   "source": [
    "You should see that the data is not linearly separable.\n",
    "Find a linear classifier that makes a minimal number of errors on the training data.\n",
    "\n",
    "Write a function `predict()` function for the classifer and get the predicted labels with the command:\n",
    "\n",
    "    yhat = predict(X)\n",
    "\n",
    "Print `yhat` and `y`.  How many errors does your classifier make?"
   ]
  },
  {
   "cell_type": "code",
   "execution_count": 25,
   "metadata": {},
   "outputs": [
    {
     "name": "stdout",
     "output_type": "stream",
     "text": [
      "[0 0 0 1 1 1]\n",
      "[0 0 1 1 0 1]\n"
     ]
    },
    {
     "data": {
      "text/plain": [
       "' my classifier made 2 errors ... '"
      ]
     },
     "execution_count": 25,
     "metadata": {},
     "output_type": "execute_result"
    }
   ],
   "source": [
    "class LogisticRegression:\n",
    "    def __init__(self, X, y):\n",
    "        self.X = np.array(X)\n",
    "        self.Y = np.array(y)\n",
    "        self.num_attributes = self.X.shape[1]\n",
    "        self.coef_ = np.zeros(self.num_attributes)\n",
    "        self.intercept_ = 0\n",
    "\n",
    "    def sig(self,v):\n",
    "        return 1/(1 + np.exp(-v))\n",
    "\n",
    "    # binary cross entropy\n",
    "    def cost_function(self):\n",
    "        m = self.X.shape[0]     # number of samples\n",
    "\n",
    "\n",
    "        \"\"\" y_pred\n",
    "\n",
    "        - self.X @ self.coef_ is matrix multiplication between our feature matrix and our weight matrix \n",
    "        - self.intercept_ is just us adding bias\n",
    "        - similar to linear regression but constrained to a value between 0,1\n",
    "\n",
    "        \"\"\"\n",
    "\n",
    "        y_pred = self.sig(self.X @ self.coef_ + self.intercept_)    # predictions\n",
    "        return - (1/m) * np.sum(self.Y * np.log(y_pred) + (1 - self.Y) * np.log(1 - y_pred))\n",
    "\n",
    "    # gradient descent\n",
    "    def fit(self, lr=0.01, epochs=1000):\n",
    "        m = self.X.shape[0]\n",
    "\n",
    "        for _ in range(epochs):\n",
    "            y_pred = self.sig(self.X @ self.coef_ + self.intercept_)\n",
    "            error = y_pred - self.Y     # error\n",
    "\n",
    "            # gradients\n",
    "            dW = (1/m) * (self.X.T @ error)\n",
    "            dB = (1/m) * (np.sum(error))\n",
    "\n",
    "            # updating the parameters\n",
    "            self.coef_ -= lr * dW\n",
    "            self.intercept_ -= lr * dB\n",
    " \n",
    "\n",
    "    def predict(self, X_new):\n",
    "        y_pred = self.sig(X_new @ self.coef_ + self.intercept_)\n",
    "        return (y_pred >= 0.5).astype(int)  # convert probabilities to class labels\n",
    "\n",
    "\n",
    "    def score(self, X_test, y_test):\n",
    "        y_pred = self.predict(X_test)\n",
    "        return np.mean(y_pred == y_test)  # accuracy calculation\n",
    "\n",
    "# TODO\n",
    "lr = LogisticRegression(X,y)\n",
    "lr.fit(lr=0.1)\n",
    "yhat = lr.predict(X)\n",
    "print(yhat)\n",
    "print(y)\n",
    "\n",
    "\"\"\" my classifier made 2 errors ... \"\"\""
   ]
  },
  {
   "cell_type": "markdown",
   "metadata": {},
   "source": [
    "# Question 2:   Logistic Model\n",
    "\n",
    "Consider the model for the passing a test:\n",
    "\n",
    "    P(pass test) = 1/(1+exp(-z)),  z =  w0 + w1*hrs_alone + w2*hrs_tutor\n",
    "    \n",
    "where `hrs_alone` is the number of hours studied alone and `hrs_tutor` is the number of hours with a tutor.\n",
    "Given the values below find `w0` for the probability = 0.6.\n"
   ]
  },
  {
   "cell_type": "code",
   "execution_count": 26,
   "metadata": {},
   "outputs": [
    {
     "name": "stdout",
     "output_type": "stream",
     "text": [
      "w0 ≈ -0.8945\n"
     ]
    }
   ],
   "source": [
    "hrs_alone = 4\n",
    "hrs_tutor = 1\n",
    "w1 = 0.2\n",
    "w2 = 0.5\n",
    "prob = 0.6\n",
    "\n",
    "\n",
    "z_rest = w1 * hrs_alone + w2 * hrs_tutor  # 0.2*4 + 0.5*1 = 1.3\n",
    "\n",
    "# Solve for w0\n",
    "z = -np.log((1 / prob) - 1)               # Invert sigmoid to get z\n",
    "\n",
    "# TODO\n",
    "w0 = z - z_rest                           # Rearrange: z = w0 + z_rest -> w0 = z - z_rest\n",
    "print(f\"w0 ≈ {w0:.4f}\")"
   ]
  },
  {
   "cell_type": "markdown",
   "metadata": {},
   "source": [
    "Given the values above, plot the probability of passing as a function of `hrs_tutor` in the range of 0 to 10 hours."
   ]
  },
  {
   "cell_type": "code",
   "execution_count": 27,
   "metadata": {},
   "outputs": [
    {
     "name": "stdout",
     "output_type": "stream",
     "text": [
      "Proability for 0 hours studied: 0.476383862223051\n",
      "Proability for 1 hours studied: 0.6\n",
      "Proability for 2 hours studied: 0.7120712879653152\n",
      "Proability for 3 hours studied: 0.8030496866860279\n",
      "Proability for 4 hours studied: 0.8705088185971921\n",
      "Proability for 5 hours studied: 0.9172430971043682\n",
      "Proability for 6 hours studied: 0.9481159364412806\n",
      "Proability for 7 hours studied: 0.9678748975365392\n",
      "Proability for 8 hours studied: 0.9802656939885876\n",
      "Proability for 9 hours studied: 0.9879368700291201\n"
     ]
    }
   ],
   "source": [
    "# TODO\n",
    "# hrs_tutor = np.arange(10)\n",
    "\n",
    "for i in range(10):\n",
    "    z = w0 + w1 * hrs_alone + w2 * i\n",
    "    prob = 1/(1+np.exp(-z))\n",
    "    print(f'Proability for {i} hours studied: {prob}')\n"
   ]
  },
  {
   "cell_type": "markdown",
   "metadata": {},
   "source": [
    "## Question 3.  Calculating and Plotting the Binary Cross Entropy Loss\n",
    "\n",
    "You are given the scalar data `x` and `y` with binary class labels below."
   ]
  },
  {
   "cell_type": "code",
   "execution_count": 28,
   "metadata": {},
   "outputs": [],
   "source": [
    "x = np.array([-1,1,3,4,5])\n",
    "y = np.array([0,0,1,0,1])"
   ]
  },
  {
   "cell_type": "markdown",
   "metadata": {},
   "source": [
    "Consider a linear classifier of the form:\n",
    "\n",
    "    z = w[0] + w[1]*x\n",
    "    yhat = 1 if z > 0 and 0 if z < 0\n",
    "    \n",
    "Find `w` that makes at most one error on the training data. Call this selection `w_manual` since you have manually chosen it."
   ]
  },
  {
   "cell_type": "code",
   "execution_count": 29,
   "metadata": {},
   "outputs": [
    {
     "name": "stdout",
     "output_type": "stream",
     "text": [
      "Original: [0 0 1 0 1]\n",
      "Test: [0, 0, 0, 0, 1]\n"
     ]
    }
   ],
   "source": [
    "# TODO\n",
    "w_manual = [-0.8,0.2]\n",
    "\n",
    "print(f'Original: {y}')\n",
    "\n",
    "test = []\n",
    "\n",
    "for i in x:\n",
    "    z = w_manual[0] + w_manual[1] * i\n",
    "    prob = 1/(1+np.exp(-z))\n",
    "    pred = 1 if prob > 0.5 else 0\n",
    "    test.append(pred)\n",
    "\n",
    "print(f'Test: {test}')"
   ]
  },
  {
   "cell_type": "markdown",
   "metadata": {},
   "source": [
    "Now consider a logistic model,\n",
    "\n",
    "    z = w[0] + w[1]*x\n",
    "    p(y=1|x) = 1 / (1 + exp(-z))\n",
    "    \n",
    "Complete the function below that computes the binary cross entropy for a given vector `w` and training data `x,y`. Use the function to compute the BCE loss for the `w_manual`. "
   ]
  },
  {
   "cell_type": "code",
   "execution_count": 30,
   "metadata": {},
   "outputs": [
    {
     "name": "stdout",
     "output_type": "stream",
     "text": [
      "0.5680349114654476\n"
     ]
    }
   ],
   "source": [
    "def bce_loss(x,y,w):\n",
    "    # TODO\n",
    "    z = w[0] + w[1] * x\n",
    "    prob = 1/(1+np.exp(-z))\n",
    "    J = -np.mean(y * np.log(prob) + (1 - y) * np.log(1 - prob))  # Full BCE\n",
    "\n",
    "    # J = BCE loss\n",
    "    return J\n",
    "\n",
    "bce = bce_loss(x,y,w_manual)\n",
    "\n",
    "# Print the loss for `w_manual`\n",
    "print(bce)"
   ]
  },
  {
   "cell_type": "markdown",
   "metadata": {},
   "source": [
    "Now consider a set of `w = [w0, 0.5]`.  \n",
    "* Plot the BCE loss over 100 values `w0` from -2.5 to 0  \n",
    "* What value of `w0`gives the minimum BCE loss?   Call this `w0_opt`.\n",
    "* What is the minimum BCE loss?"
   ]
  },
  {
   "cell_type": "code",
   "execution_count": 31,
   "metadata": {},
   "outputs": [
    {
     "name": "stdout",
     "output_type": "stream",
     "text": [
      "0.4781784632629634\n"
     ]
    }
   ],
   "source": [
    "nt = 100\n",
    "w0_test = np.linspace(-2.5,0,nt)\n",
    "w1 = 0.5\n",
    "\n",
    "# TODO\n",
    "loss = [bce_loss(x, y, [w0, w1]) for w0 in w0_test]\n",
    "w0_opt = min(loss)\n",
    "print(w0_opt)"
   ]
  },
  {
   "cell_type": "markdown",
   "metadata": {},
   "source": [
    "Suppose you select `w1=0.5`and `w0=w0_opt` from the previous section.  What values `x` is `P(y=1|x) > 0.5`?"
   ]
  },
  {
   "cell_type": "code",
   "execution_count": 32,
   "metadata": {},
   "outputs": [
    {
     "name": "stdout",
     "output_type": "stream",
     "text": [
      "Threshold for x: -0.9563569265259269\n"
     ]
    }
   ],
   "source": [
    "# TODO.  Describe the set\n",
    "\n",
    "# We have P(y=1|x) > 0.5 <=> z > 0  <=> w0 + w1*x > 0 <=> x > t = -w0/w1\n",
    "\n",
    "threshold_x = -2 * w0_opt\n",
    "\n",
    "# Print the result\n",
    "print(f'Threshold for x: {threshold_x}')"
   ]
  },
  {
   "cell_type": "markdown",
   "metadata": {},
   "source": [
    "## Question 4.  Heart Attack Fit\n",
    "\n",
    "In this exercise, we fit heart attack data from the UCI website.  We can load it as follows."
   ]
  },
  {
   "cell_type": "code",
   "execution_count": 33,
   "metadata": {},
   "outputs": [],
   "source": [
    "## Generate synthetic data\n",
    "names = ['age', 'sex', 'cp', 'trestbps', 'chol', 'fbs',\n",
    "         'restecg', 'thalach', 'exang', 'oldpeak', 'slope', 'ca', 'thal', 'num']\n",
    "url = 'https://archive.ics.uci.edu/ml/machine-learning-databases/heart-disease/processed.cleveland.data'\n",
    "df = pd.read_csv(url, na_values='?',header=None, names=names)\n",
    "df = df.dropna()"
   ]
  },
  {
   "cell_type": "markdown",
   "metadata": {},
   "source": [
    "Print the first few rows of the data frame.\n",
    "Print the number of attributes of number of samples"
   ]
  },
  {
   "cell_type": "code",
   "execution_count": 34,
   "metadata": {},
   "outputs": [
    {
     "name": "stdout",
     "output_type": "stream",
     "text": [
      "    age  sex   cp  trestbps   chol  fbs  restecg  thalach  exang  oldpeak  \\\n",
      "0  63.0  1.0  1.0     145.0  233.0  1.0      2.0    150.0    0.0      2.3   \n",
      "1  67.0  1.0  4.0     160.0  286.0  0.0      2.0    108.0    1.0      1.5   \n",
      "2  67.0  1.0  4.0     120.0  229.0  0.0      2.0    129.0    1.0      2.6   \n",
      "3  37.0  1.0  3.0     130.0  250.0  0.0      0.0    187.0    0.0      3.5   \n",
      "4  41.0  0.0  2.0     130.0  204.0  0.0      2.0    172.0    0.0      1.4   \n",
      "5  56.0  1.0  2.0     120.0  236.0  0.0      0.0    178.0    0.0      0.8   \n",
      "6  62.0  0.0  4.0     140.0  268.0  0.0      2.0    160.0    0.0      3.6   \n",
      "7  57.0  0.0  4.0     120.0  354.0  0.0      0.0    163.0    1.0      0.6   \n",
      "8  63.0  1.0  4.0     130.0  254.0  0.0      2.0    147.0    0.0      1.4   \n",
      "9  53.0  1.0  4.0     140.0  203.0  1.0      2.0    155.0    1.0      3.1   \n",
      "\n",
      "   slope   ca  thal  num  \n",
      "0    3.0  0.0   6.0    0  \n",
      "1    2.0  3.0   3.0    2  \n",
      "2    2.0  2.0   7.0    1  \n",
      "3    3.0  0.0   3.0    0  \n",
      "4    1.0  0.0   3.0    0  \n",
      "5    1.0  0.0   3.0    0  \n",
      "6    3.0  2.0   3.0    3  \n",
      "7    1.0  0.0   3.0    0  \n",
      "8    2.0  1.0   7.0    2  \n",
      "9    3.0  0.0   7.0    1  \n",
      "14\n"
     ]
    }
   ],
   "source": [
    "# TODO\n",
    "print(df.head(10))\n",
    "print(df.shape[1])\n"
   ]
  },
  {
   "cell_type": "markdown",
   "metadata": {},
   "source": [
    "The target will be `num` which is the number of arterial blockages.  Get the target vector `y` from the `df[num]` column.  To make this a binary classification problem, let `y[i] == 1` whenever the number is greater than 0.  Otherwise, `y[i] == 0`.  You will have to convert the value to integer."
   ]
  },
  {
   "cell_type": "code",
   "execution_count": 35,
   "metadata": {},
   "outputs": [],
   "source": [
    "# TODO\n",
    "y = df['num']"
   ]
  },
  {
   "cell_type": "code",
   "execution_count": 36,
   "metadata": {},
   "outputs": [],
   "source": [
    "y = (y > 0).astype(int)"
   ]
  },
  {
   "cell_type": "markdown",
   "metadata": {},
   "source": [
    "Get the data matrix `X` from all the attributes other than `num`.  "
   ]
  },
  {
   "cell_type": "code",
   "execution_count": 37,
   "metadata": {},
   "outputs": [],
   "source": [
    "# TODO\n",
    "#  X = ...\n",
    "X = df.drop(columns=['num'])"
   ]
  },
  {
   "cell_type": "markdown",
   "metadata": {},
   "source": [
    "Split the data into traing and test with `test_size=0.25`."
   ]
  },
  {
   "cell_type": "code",
   "execution_count": 38,
   "metadata": {},
   "outputs": [],
   "source": [
    "from sklearn.model_selection import train_test_split\n",
    "\n",
    "# TODO:\n",
    "#   Xtr, Xts, ytr, yts = ...\n",
    "Xtr, Xts, ytr, yts = train_test_split(X,y,train_size=0.8,random_state=42)"
   ]
  },
  {
   "cell_type": "markdown",
   "metadata": {},
   "source": [
    "Scale the training and test data with the `StandardScaler`. "
   ]
  },
  {
   "cell_type": "code",
   "execution_count": 39,
   "metadata": {},
   "outputs": [],
   "source": [
    "from sklearn.preprocessing import StandardScaler\n",
    "\n",
    "# TODO\n",
    "\n",
    "scaler = StandardScaler()\n",
    "scaler.fit(Xtr)\n",
    "\n",
    "Xtr_scaled = scaler.transform(Xtr)\n",
    "Xts_scaled = scaler.transform(Xts)\n",
    "#  Xtr1 = ...\n",
    "#  Xts1 = ..."
   ]
  },
  {
   "cell_type": "markdown",
   "metadata": {},
   "source": [
    "Fit the data on the training data set, predict on the test and measure the accuracy."
   ]
  },
  {
   "cell_type": "code",
   "execution_count": 40,
   "metadata": {},
   "outputs": [
    {
     "name": "stdout",
     "output_type": "stream",
     "text": [
      "Test Accuracy: 0.8667\n"
     ]
    }
   ],
   "source": [
    "# TODO\n",
    "from sklearn.linear_model import LogisticRegression\n",
    "from sklearn.metrics import accuracy_score\n",
    "\n",
    "model = LogisticRegression()\n",
    "model.fit(Xtr_scaled, ytr)\n",
    "\n",
    "y_pred = model.predict(Xts_scaled)\n",
    "\n",
    "accuracy = accuracy_score(yts, y_pred)\n",
    "print(f\"Test Accuracy: {accuracy:.4f}\")"
   ]
  },
  {
   "cell_type": "markdown",
   "metadata": {},
   "source": [
    "Create a stem plot of the coefficients.  "
   ]
  },
  {
   "cell_type": "code",
   "execution_count": 43,
   "metadata": {},
   "outputs": [
    {
     "data": {
      "image/png": "[encoded data removed]",
      "text/plain": [
       "<Figure size 1000x500 with 1 Axes>"
      ]
     },
     "metadata": {},
     "output_type": "display_data"
    }
   ],
   "source": [
    "# TODO\n",
    "coefs = model.coef_[0]\n",
    "\n",
    "# Create feature labels\n",
    "feature_names = X.columns if hasattr(X, 'columns') else [f'X{i}' for i in range(len(coefs))]\n",
    "\n",
    "# Plot\n",
    "plt.figure(figsize=(10, 5))\n",
    "markerline, stemlines, baseline = plt.stem(coefs)\n",
    "plt.setp(markerline, marker='o', markersize=6, color='red')\n",
    "plt.setp(stemlines, linestyle='-', color='blue')\n",
    "plt.setp(baseline, visible=False)\n",
    "\n",
    "plt.xticks(ticks=np.arange(len(coefs)), labels=feature_names, rotation=45, ha='right')\n",
    "plt.title(\"Logistic Regression Coefficients\")\n",
    "plt.ylabel(\"Coefficient Value\")\n",
    "plt.grid(True)\n",
    "plt.tight_layout()\n",
    "plt.show()"
   ]
  },
  {
   "cell_type": "markdown",
   "metadata": {},
   "source": [
    "## Further exercises\n",
    "\n",
    "If you want to try a little more, see if you can use L1 regularization to find the features that are best in explaining heart blockages."
   ]
  },
  {
   "cell_type": "code",
   "execution_count": null,
   "metadata": {},
   "outputs": [],
   "source": []
  },
  {
   "cell_type": "code",
   "execution_count": null,
   "metadata": {},
   "outputs": [],
   "source": []
  },
  {
   "cell_type": "code",
   "execution_count": null,
   "metadata": {},
   "outputs": [],
   "source": []
  },
  {
   "cell_type": "code",
   "execution_count": null,
   "metadata": {},
   "outputs": [],
   "source": []
  },
  {
   "cell_type": "code",
   "execution_count": null,
   "metadata": {},
   "outputs": [],
   "source": []
  }
 ],
 "metadata": {
  "kernelspec": {
   "display_name": "venv",
   "language": "python",
   "name": "python3"
  },
  "language_info": {
   "codemirror_mode": {
    "name": "ipython",
    "version": 3
   },
   "file_extension": ".py",
   "mimetype": "text/x-python",
   "name": "python",
   "nbconvert_exporter": "python",
   "pygments_lexer": "ipython3",
   "version": "3.11.9"
  }
 },
 "nbformat": 4,
 "nbformat_minor": 2
}
